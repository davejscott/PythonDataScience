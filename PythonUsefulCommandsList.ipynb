{
 "cells": [
  {
   "cell_type": "markdown",
   "metadata": {},
   "source": [
    "# List of Magic or Useful commands for Python"
   ]
  },
  {
   "cell_type": "markdown",
   "metadata": {},
   "source": [
    "### Debugging"
   ]
  },
  {
   "cell_type": "markdown",
   "metadata": {},
   "source": [
    "#### 1) %debug : quickly going and being able to see whats wrong with your system\n",
    "#### 2) %xmode: (Plain, Context, Verbose) the output options for how much information we want with our system issues\n"
   ]
  },
  {
   "cell_type": "markdown",
   "metadata": {},
   "source": [
    "## turn %pdb on after %xmode to automatically get the debugger to launch with code issues"
   ]
  },
  {
   "cell_type": "markdown",
   "metadata": {},
   "source": [
    "# Debugging command list"
   ]
  },
  {
   "cell_type": "markdown",
   "metadata": {},
   "source": [
    "list:   show location in file\n",
    "h(elp): show list of command, or help on a specific command\n",
    "q(uit): quit the debugger\n",
    "c(ontinue): quit the debugger, continue in program\n",
    "n(ext): go to next step of program\n",
    "<enter>: repeat previous command\n",
    "p(rint): print variables\n",
    "s(tep): step into a subroutine\n",
    "r(eturn): return out of a subroutine"
   ]
  },
  {
   "cell_type": "code",
   "execution_count": null,
   "metadata": {},
   "outputs": [],
   "source": []
  }
 ],
 "metadata": {
  "kernelspec": {
   "display_name": "Python 3",
   "language": "python",
   "name": "python3"
  },
  "language_info": {
   "codemirror_mode": {
    "name": "ipython",
    "version": 3
   },
   "file_extension": ".py",
   "mimetype": "text/x-python",
   "name": "python",
   "nbconvert_exporter": "python",
   "pygments_lexer": "ipython3",
   "version": "3.7.3"
  }
 },
 "nbformat": 4,
 "nbformat_minor": 2
}
